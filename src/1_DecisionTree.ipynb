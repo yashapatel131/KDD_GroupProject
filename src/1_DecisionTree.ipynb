{
 "cells": [
  {
   "cell_type": "markdown",
   "metadata": {},
   "source": [
    "# Decision Tree"
   ]
  },
  {
   "cell_type": "markdown",
   "metadata": {},
   "source": [
    "## Import packages"
   ]
  },
  {
   "cell_type": "code",
   "execution_count": 1,
   "metadata": {},
   "outputs": [],
   "source": [
    "import pandas as pd\n",
    "import numpy as np\n",
    "import matplotlib.pyplot as plt\n",
    "import graphviz\n",
    "from sklearn.model_selection import train_test_split\n",
    "from sklearn.model_selection import cross_val_score\n",
    "from sklearn.tree import DecisionTreeClassifier\n",
    "from sklearn.tree import export_graphviz\n",
    "from sklearn.metrics import classification_report,confusion_matrix, accuracy_score \n",
    "import os\n",
    "\n",
    "def image_path(fig_id):\n",
    "    return os.path.join(\".\", fig_id)"
   ]
  },
  {
   "cell_type": "markdown",
   "metadata": {},
   "source": [
    "## Read the data"
   ]
  },
  {
   "cell_type": "code",
   "execution_count": 2,
   "metadata": {
    "scrolled": true
   },
   "outputs": [
    {
     "data": {
      "text/html": [
       "<div>\n",
       "<style scoped>\n",
       "    .dataframe tbody tr th:only-of-type {\n",
       "        vertical-align: middle;\n",
       "    }\n",
       "\n",
       "    .dataframe tbody tr th {\n",
       "        vertical-align: top;\n",
       "    }\n",
       "\n",
       "    .dataframe thead th {\n",
       "        text-align: right;\n",
       "    }\n",
       "</style>\n",
       "<table border=\"1\" class=\"dataframe\">\n",
       "  <thead>\n",
       "    <tr style=\"text-align: right;\">\n",
       "      <th></th>\n",
       "      <th>ID</th>\n",
       "      <th>Acousticness</th>\n",
       "      <th>Album</th>\n",
       "      <th>Artist</th>\n",
       "      <th>Danceability</th>\n",
       "      <th>Duration</th>\n",
       "      <th>Energy</th>\n",
       "      <th>Explicit</th>\n",
       "      <th>Instrumentalness</th>\n",
       "      <th>Liveness</th>\n",
       "      <th>Loudness</th>\n",
       "      <th>Mode</th>\n",
       "      <th>Name</th>\n",
       "      <th>Popularity</th>\n",
       "      <th>popularityLabel</th>\n",
       "      <th>Speechiness</th>\n",
       "      <th>Tempo</th>\n",
       "      <th>TimeSignature</th>\n",
       "      <th>Valence</th>\n",
       "    </tr>\n",
       "  </thead>\n",
       "  <tbody>\n",
       "    <tr>\n",
       "      <th>0</th>\n",
       "      <td>0</td>\n",
       "      <td>0.000728</td>\n",
       "      <td>Collective Soul (Deluxe Version)</td>\n",
       "      <td>Collective Soul</td>\n",
       "      <td>0.520</td>\n",
       "      <td>234947</td>\n",
       "      <td>0.904</td>\n",
       "      <td>False</td>\n",
       "      <td>0.010300</td>\n",
       "      <td>0.0634</td>\n",
       "      <td>-5.030</td>\n",
       "      <td>1</td>\n",
       "      <td>Welcome All Again</td>\n",
       "      <td>35</td>\n",
       "      <td>Popular</td>\n",
       "      <td>0.0309</td>\n",
       "      <td>106.022</td>\n",
       "      <td>4</td>\n",
       "      <td>0.365</td>\n",
       "    </tr>\n",
       "    <tr>\n",
       "      <th>1</th>\n",
       "      <td>1</td>\n",
       "      <td>0.018200</td>\n",
       "      <td>Collective Soul (Deluxe Version)</td>\n",
       "      <td>Collective Soul</td>\n",
       "      <td>0.581</td>\n",
       "      <td>239573</td>\n",
       "      <td>0.709</td>\n",
       "      <td>False</td>\n",
       "      <td>0.000664</td>\n",
       "      <td>0.1740</td>\n",
       "      <td>-4.909</td>\n",
       "      <td>1</td>\n",
       "      <td>Fuzzy</td>\n",
       "      <td>31</td>\n",
       "      <td>Popular</td>\n",
       "      <td>0.0282</td>\n",
       "      <td>120.027</td>\n",
       "      <td>4</td>\n",
       "      <td>0.408</td>\n",
       "    </tr>\n",
       "    <tr>\n",
       "      <th>2</th>\n",
       "      <td>2</td>\n",
       "      <td>0.000473</td>\n",
       "      <td>Collective Soul (Deluxe Version)</td>\n",
       "      <td>Collective Soul</td>\n",
       "      <td>0.572</td>\n",
       "      <td>198400</td>\n",
       "      <td>0.918</td>\n",
       "      <td>False</td>\n",
       "      <td>0.000431</td>\n",
       "      <td>0.0977</td>\n",
       "      <td>-3.324</td>\n",
       "      <td>0</td>\n",
       "      <td>Dig</td>\n",
       "      <td>30</td>\n",
       "      <td>Popular</td>\n",
       "      <td>0.0559</td>\n",
       "      <td>144.061</td>\n",
       "      <td>4</td>\n",
       "      <td>0.370</td>\n",
       "    </tr>\n",
       "    <tr>\n",
       "      <th>3</th>\n",
       "      <td>3</td>\n",
       "      <td>0.000970</td>\n",
       "      <td>Collective Soul (Deluxe Version)</td>\n",
       "      <td>Collective Soul</td>\n",
       "      <td>0.596</td>\n",
       "      <td>231453</td>\n",
       "      <td>0.661</td>\n",
       "      <td>False</td>\n",
       "      <td>0.000033</td>\n",
       "      <td>0.1130</td>\n",
       "      <td>-5.051</td>\n",
       "      <td>1</td>\n",
       "      <td>You</td>\n",
       "      <td>35</td>\n",
       "      <td>Popular</td>\n",
       "      <td>0.0254</td>\n",
       "      <td>111.975</td>\n",
       "      <td>4</td>\n",
       "      <td>0.183</td>\n",
       "    </tr>\n",
       "    <tr>\n",
       "      <th>4</th>\n",
       "      <td>4</td>\n",
       "      <td>0.000036</td>\n",
       "      <td>Collective Soul (Deluxe Version)</td>\n",
       "      <td>Collective Soul</td>\n",
       "      <td>0.520</td>\n",
       "      <td>222520</td>\n",
       "      <td>0.808</td>\n",
       "      <td>False</td>\n",
       "      <td>0.000010</td>\n",
       "      <td>0.0800</td>\n",
       "      <td>-4.553</td>\n",
       "      <td>0</td>\n",
       "      <td>My Days</td>\n",
       "      <td>21</td>\n",
       "      <td>Popular</td>\n",
       "      <td>0.0318</td>\n",
       "      <td>92.721</td>\n",
       "      <td>4</td>\n",
       "      <td>0.666</td>\n",
       "    </tr>\n",
       "  </tbody>\n",
       "</table>\n",
       "</div>"
      ],
      "text/plain": [
       "   ID  Acousticness                             Album           Artist  \\\n",
       "0   0      0.000728  Collective Soul (Deluxe Version)  Collective Soul   \n",
       "1   1      0.018200  Collective Soul (Deluxe Version)  Collective Soul   \n",
       "2   2      0.000473  Collective Soul (Deluxe Version)  Collective Soul   \n",
       "3   3      0.000970  Collective Soul (Deluxe Version)  Collective Soul   \n",
       "4   4      0.000036  Collective Soul (Deluxe Version)  Collective Soul   \n",
       "\n",
       "   Danceability  Duration  Energy  Explicit  Instrumentalness  Liveness  \\\n",
       "0         0.520    234947   0.904     False          0.010300    0.0634   \n",
       "1         0.581    239573   0.709     False          0.000664    0.1740   \n",
       "2         0.572    198400   0.918     False          0.000431    0.0977   \n",
       "3         0.596    231453   0.661     False          0.000033    0.1130   \n",
       "4         0.520    222520   0.808     False          0.000010    0.0800   \n",
       "\n",
       "   Loudness  Mode               Name  Popularity popularityLabel  Speechiness  \\\n",
       "0    -5.030     1  Welcome All Again          35         Popular       0.0309   \n",
       "1    -4.909     1              Fuzzy          31         Popular       0.0282   \n",
       "2    -3.324     0                Dig          30         Popular       0.0559   \n",
       "3    -5.051     1                You          35         Popular       0.0254   \n",
       "4    -4.553     0            My Days          21         Popular       0.0318   \n",
       "\n",
       "     Tempo  TimeSignature  Valence  \n",
       "0  106.022              4    0.365  \n",
       "1  120.027              4    0.408  \n",
       "2  144.061              4    0.370  \n",
       "3  111.975              4    0.183  \n",
       "4   92.721              4    0.666  "
      ]
     },
     "execution_count": 2,
     "metadata": {},
     "output_type": "execute_result"
    }
   ],
   "source": [
    "#Load the dataset\n",
    "song_data = pd.read_csv('https://raw.githubusercontent.com/yashapatel131/KDD_GroupProject/main/Datasets/Song_Attributes.csv')\n",
    "song_data.head()"
   ]
  },
  {
   "cell_type": "code",
   "execution_count": 3,
   "metadata": {
    "scrolled": true
   },
   "outputs": [
    {
     "data": {
      "text/html": [
       "<div>\n",
       "<style scoped>\n",
       "    .dataframe tbody tr th:only-of-type {\n",
       "        vertical-align: middle;\n",
       "    }\n",
       "\n",
       "    .dataframe tbody tr th {\n",
       "        vertical-align: top;\n",
       "    }\n",
       "\n",
       "    .dataframe thead th {\n",
       "        text-align: right;\n",
       "    }\n",
       "</style>\n",
       "<table border=\"1\" class=\"dataframe\">\n",
       "  <thead>\n",
       "    <tr style=\"text-align: right;\">\n",
       "      <th></th>\n",
       "      <th>Acousticness</th>\n",
       "      <th>Danceability</th>\n",
       "      <th>Duration</th>\n",
       "      <th>Energy</th>\n",
       "      <th>Explicit</th>\n",
       "      <th>Instrumentalness</th>\n",
       "      <th>Liveness</th>\n",
       "      <th>Loudness</th>\n",
       "      <th>popularityLabel</th>\n",
       "      <th>Speechiness</th>\n",
       "      <th>Tempo</th>\n",
       "      <th>TimeSignature</th>\n",
       "      <th>Valence</th>\n",
       "    </tr>\n",
       "  </thead>\n",
       "  <tbody>\n",
       "    <tr>\n",
       "      <th>0</th>\n",
       "      <td>0.000728</td>\n",
       "      <td>0.520</td>\n",
       "      <td>234947</td>\n",
       "      <td>0.904</td>\n",
       "      <td>False</td>\n",
       "      <td>0.010300</td>\n",
       "      <td>0.0634</td>\n",
       "      <td>-5.030</td>\n",
       "      <td>Popular</td>\n",
       "      <td>0.0309</td>\n",
       "      <td>106.022</td>\n",
       "      <td>4</td>\n",
       "      <td>0.365</td>\n",
       "    </tr>\n",
       "    <tr>\n",
       "      <th>1</th>\n",
       "      <td>0.018200</td>\n",
       "      <td>0.581</td>\n",
       "      <td>239573</td>\n",
       "      <td>0.709</td>\n",
       "      <td>False</td>\n",
       "      <td>0.000664</td>\n",
       "      <td>0.1740</td>\n",
       "      <td>-4.909</td>\n",
       "      <td>Popular</td>\n",
       "      <td>0.0282</td>\n",
       "      <td>120.027</td>\n",
       "      <td>4</td>\n",
       "      <td>0.408</td>\n",
       "    </tr>\n",
       "    <tr>\n",
       "      <th>2</th>\n",
       "      <td>0.000473</td>\n",
       "      <td>0.572</td>\n",
       "      <td>198400</td>\n",
       "      <td>0.918</td>\n",
       "      <td>False</td>\n",
       "      <td>0.000431</td>\n",
       "      <td>0.0977</td>\n",
       "      <td>-3.324</td>\n",
       "      <td>Popular</td>\n",
       "      <td>0.0559</td>\n",
       "      <td>144.061</td>\n",
       "      <td>4</td>\n",
       "      <td>0.370</td>\n",
       "    </tr>\n",
       "    <tr>\n",
       "      <th>3</th>\n",
       "      <td>0.000970</td>\n",
       "      <td>0.596</td>\n",
       "      <td>231453</td>\n",
       "      <td>0.661</td>\n",
       "      <td>False</td>\n",
       "      <td>0.000033</td>\n",
       "      <td>0.1130</td>\n",
       "      <td>-5.051</td>\n",
       "      <td>Popular</td>\n",
       "      <td>0.0254</td>\n",
       "      <td>111.975</td>\n",
       "      <td>4</td>\n",
       "      <td>0.183</td>\n",
       "    </tr>\n",
       "    <tr>\n",
       "      <th>4</th>\n",
       "      <td>0.000036</td>\n",
       "      <td>0.520</td>\n",
       "      <td>222520</td>\n",
       "      <td>0.808</td>\n",
       "      <td>False</td>\n",
       "      <td>0.000010</td>\n",
       "      <td>0.0800</td>\n",
       "      <td>-4.553</td>\n",
       "      <td>Popular</td>\n",
       "      <td>0.0318</td>\n",
       "      <td>92.721</td>\n",
       "      <td>4</td>\n",
       "      <td>0.666</td>\n",
       "    </tr>\n",
       "  </tbody>\n",
       "</table>\n",
       "</div>"
      ],
      "text/plain": [
       "   Acousticness  Danceability  Duration  Energy  Explicit  Instrumentalness  \\\n",
       "0      0.000728         0.520    234947   0.904     False          0.010300   \n",
       "1      0.018200         0.581    239573   0.709     False          0.000664   \n",
       "2      0.000473         0.572    198400   0.918     False          0.000431   \n",
       "3      0.000970         0.596    231453   0.661     False          0.000033   \n",
       "4      0.000036         0.520    222520   0.808     False          0.000010   \n",
       "\n",
       "   Liveness  Loudness popularityLabel  Speechiness    Tempo  TimeSignature  \\\n",
       "0    0.0634    -5.030         Popular       0.0309  106.022              4   \n",
       "1    0.1740    -4.909         Popular       0.0282  120.027              4   \n",
       "2    0.0977    -3.324         Popular       0.0559  144.061              4   \n",
       "3    0.1130    -5.051         Popular       0.0254  111.975              4   \n",
       "4    0.0800    -4.553         Popular       0.0318   92.721              4   \n",
       "\n",
       "   Valence  \n",
       "0    0.365  \n",
       "1    0.408  \n",
       "2    0.370  \n",
       "3    0.183  \n",
       "4    0.666  "
      ]
     },
     "execution_count": 3,
     "metadata": {},
     "output_type": "execute_result"
    }
   ],
   "source": [
    "#Drop some columns\n",
    "songAttributes = song_data.drop(columns=['ID', 'Album', 'Mode', 'Name', 'Artist', 'Popularity'])\n",
    "songAttributes.head()"
   ]
  },
  {
   "cell_type": "code",
   "execution_count": 4,
   "metadata": {},
   "outputs": [
    {
     "data": {
      "text/plain": [
       "Index(['Acousticness', 'Danceability', 'Duration', 'Energy',\n",
       "       'Instrumentalness', 'Liveness', 'Loudness', 'popularityLabel',\n",
       "       'Speechiness', 'Tempo', 'Valence', 'TimeSignature_0', 'TimeSignature_1',\n",
       "       'TimeSignature_3', 'TimeSignature_4', 'TimeSignature_5',\n",
       "       'Explicit_False', 'Explicit_True'],\n",
       "      dtype='object')"
      ]
     },
     "execution_count": 4,
     "metadata": {},
     "output_type": "execute_result"
    }
   ],
   "source": [
    "#Dummy encoding and view the new columns\n",
    "songAttributes_binary_encoded = pd.get_dummies(songAttributes, columns=['TimeSignature', 'Explicit'])\n",
    "songAttributes_binary_encoded.columns"
   ]
  },
  {
   "cell_type": "markdown",
   "metadata": {},
   "source": [
    "## Splitting the data"
   ]
  },
  {
   "cell_type": "code",
   "execution_count": 5,
   "metadata": {},
   "outputs": [],
   "source": [
    "X = songAttributes_binary_encoded.drop(['popularityLabel', 'TimeSignature_1', 'Explicit_False'], axis=1)\n",
    "y = songAttributes_binary_encoded['popularityLabel']"
   ]
  },
  {
   "cell_type": "code",
   "execution_count": 6,
   "metadata": {},
   "outputs": [
    {
     "data": {
      "text/html": [
       "<div>\n",
       "<style scoped>\n",
       "    .dataframe tbody tr th:only-of-type {\n",
       "        vertical-align: middle;\n",
       "    }\n",
       "\n",
       "    .dataframe tbody tr th {\n",
       "        vertical-align: top;\n",
       "    }\n",
       "\n",
       "    .dataframe thead th {\n",
       "        text-align: right;\n",
       "    }\n",
       "</style>\n",
       "<table border=\"1\" class=\"dataframe\">\n",
       "  <thead>\n",
       "    <tr style=\"text-align: right;\">\n",
       "      <th></th>\n",
       "      <th>Acousticness</th>\n",
       "      <th>Danceability</th>\n",
       "      <th>Duration</th>\n",
       "      <th>Energy</th>\n",
       "      <th>Instrumentalness</th>\n",
       "      <th>Liveness</th>\n",
       "      <th>Loudness</th>\n",
       "      <th>Speechiness</th>\n",
       "      <th>Tempo</th>\n",
       "      <th>Valence</th>\n",
       "      <th>TimeSignature_0</th>\n",
       "      <th>TimeSignature_3</th>\n",
       "      <th>TimeSignature_4</th>\n",
       "      <th>TimeSignature_5</th>\n",
       "      <th>Explicit_True</th>\n",
       "    </tr>\n",
       "  </thead>\n",
       "  <tbody>\n",
       "    <tr>\n",
       "      <th>48090</th>\n",
       "      <td>0.11800</td>\n",
       "      <td>0.608</td>\n",
       "      <td>289173</td>\n",
       "      <td>0.312</td>\n",
       "      <td>0.000029</td>\n",
       "      <td>0.1030</td>\n",
       "      <td>-8.711</td>\n",
       "      <td>0.0263</td>\n",
       "      <td>93.034</td>\n",
       "      <td>0.223</td>\n",
       "      <td>0</td>\n",
       "      <td>1</td>\n",
       "      <td>0</td>\n",
       "      <td>0</td>\n",
       "      <td>0</td>\n",
       "    </tr>\n",
       "    <tr>\n",
       "      <th>30590</th>\n",
       "      <td>0.01210</td>\n",
       "      <td>0.381</td>\n",
       "      <td>490960</td>\n",
       "      <td>0.965</td>\n",
       "      <td>0.021800</td>\n",
       "      <td>0.9660</td>\n",
       "      <td>-3.676</td>\n",
       "      <td>0.1250</td>\n",
       "      <td>136.505</td>\n",
       "      <td>0.328</td>\n",
       "      <td>0</td>\n",
       "      <td>0</td>\n",
       "      <td>1</td>\n",
       "      <td>0</td>\n",
       "      <td>0</td>\n",
       "    </tr>\n",
       "    <tr>\n",
       "      <th>36643</th>\n",
       "      <td>0.10500</td>\n",
       "      <td>0.532</td>\n",
       "      <td>228587</td>\n",
       "      <td>0.466</td>\n",
       "      <td>0.000077</td>\n",
       "      <td>0.0737</td>\n",
       "      <td>-6.412</td>\n",
       "      <td>0.0279</td>\n",
       "      <td>159.956</td>\n",
       "      <td>0.430</td>\n",
       "      <td>0</td>\n",
       "      <td>1</td>\n",
       "      <td>0</td>\n",
       "      <td>0</td>\n",
       "      <td>0</td>\n",
       "    </tr>\n",
       "    <tr>\n",
       "      <th>137260</th>\n",
       "      <td>0.00304</td>\n",
       "      <td>0.582</td>\n",
       "      <td>567346</td>\n",
       "      <td>0.961</td>\n",
       "      <td>0.807000</td>\n",
       "      <td>0.0859</td>\n",
       "      <td>-10.149</td>\n",
       "      <td>0.0381</td>\n",
       "      <td>135.995</td>\n",
       "      <td>0.828</td>\n",
       "      <td>0</td>\n",
       "      <td>0</td>\n",
       "      <td>1</td>\n",
       "      <td>0</td>\n",
       "      <td>0</td>\n",
       "    </tr>\n",
       "    <tr>\n",
       "      <th>147494</th>\n",
       "      <td>0.37100</td>\n",
       "      <td>0.855</td>\n",
       "      <td>324189</td>\n",
       "      <td>0.694</td>\n",
       "      <td>0.000000</td>\n",
       "      <td>0.1090</td>\n",
       "      <td>-4.393</td>\n",
       "      <td>0.1690</td>\n",
       "      <td>122.078</td>\n",
       "      <td>0.490</td>\n",
       "      <td>0</td>\n",
       "      <td>0</td>\n",
       "      <td>1</td>\n",
       "      <td>0</td>\n",
       "      <td>1</td>\n",
       "    </tr>\n",
       "  </tbody>\n",
       "</table>\n",
       "</div>"
      ],
      "text/plain": [
       "        Acousticness  Danceability  Duration  Energy  Instrumentalness  \\\n",
       "48090        0.11800         0.608    289173   0.312          0.000029   \n",
       "30590        0.01210         0.381    490960   0.965          0.021800   \n",
       "36643        0.10500         0.532    228587   0.466          0.000077   \n",
       "137260       0.00304         0.582    567346   0.961          0.807000   \n",
       "147494       0.37100         0.855    324189   0.694          0.000000   \n",
       "\n",
       "        Liveness  Loudness  Speechiness    Tempo  Valence  TimeSignature_0  \\\n",
       "48090     0.1030    -8.711       0.0263   93.034    0.223                0   \n",
       "30590     0.9660    -3.676       0.1250  136.505    0.328                0   \n",
       "36643     0.0737    -6.412       0.0279  159.956    0.430                0   \n",
       "137260    0.0859   -10.149       0.0381  135.995    0.828                0   \n",
       "147494    0.1090    -4.393       0.1690  122.078    0.490                0   \n",
       "\n",
       "        TimeSignature_3  TimeSignature_4  TimeSignature_5  Explicit_True  \n",
       "48090                 1                0                0              0  \n",
       "30590                 0                1                0              0  \n",
       "36643                 1                0                0              0  \n",
       "137260                0                1                0              0  \n",
       "147494                0                1                0              1  "
      ]
     },
     "execution_count": 6,
     "metadata": {},
     "output_type": "execute_result"
    }
   ],
   "source": [
    "X_train, X_test, y_train, y_test = train_test_split(X, y, test_size=0.30, random_state = 6162)\n",
    "X_train.head()"
   ]
  },
  {
   "cell_type": "markdown",
   "metadata": {},
   "source": [
    "## Identifying best depth"
   ]
  },
  {
   "cell_type": "code",
   "execution_count": 7,
   "metadata": {},
   "outputs": [],
   "source": [
    "#Function for fitting trees of various depths on the training data using cross-validation\n",
    "def run_cross_validation_on_trees(X, y, tree_depths, cv=4, scoring='accuracy'):\n",
    "    cv_scores_list = []\n",
    "    cv_scores_std = []\n",
    "    cv_scores_mean = []\n",
    "    accuracy_scores = []\n",
    "    for depth in tree_depths:\n",
    "        tree_model = DecisionTreeClassifier(max_depth=depth)\n",
    "        cv_scores = cross_val_score(tree_model, X, y, cv=cv, scoring=scoring)\n",
    "        cv_scores_list.append(cv_scores)\n",
    "        cv_scores_mean.append(cv_scores.mean())\n",
    "        cv_scores_std.append(cv_scores.std())\n",
    "        accuracy_scores.append(tree_model.fit(X, y).score(X, y))\n",
    "    cv_scores_mean = np.array(cv_scores_mean)\n",
    "    cv_scores_std = np.array(cv_scores_std)\n",
    "    accuracy_scores = np.array(accuracy_scores)\n",
    "    return cv_scores_mean, cv_scores_std, accuracy_scores\n",
    "\n",
    "#Fitting trees of depth 3 to 24\n",
    "sm_tree_depths = range(3,25)\n",
    "sm_cv_scores_mean, sm_cv_scores_std, sm_accuracy_scores = run_cross_validation_on_trees(X_train, y_train, sm_tree_depths)"
   ]
  },
  {
   "cell_type": "code",
   "execution_count": 8,
   "metadata": {},
   "outputs": [
    {
     "data": {
      "image/png": "[encoded data removed]",
      "text/plain": [
       "<Figure size 1080x360 with 1 Axes>"
      ]
     },
     "metadata": {
      "needs_background": "light"
     },
     "output_type": "display_data"
    }
   ],
   "source": [
    "# function for plotting cross-validation results\n",
    "def plot_cross_validation_on_trees(depths, cv_scores_mean, cv_scores_std, accuracy_scores, title):\n",
    "    fig, ax = plt.subplots(1,1, figsize=(15,5))\n",
    "    ax.plot(depths, cv_scores_mean, '-o', label='Mean cross-validation accuracy', alpha=0.9)\n",
    "    ax.fill_between(depths, cv_scores_mean-2*cv_scores_std, cv_scores_mean+2*cv_scores_std, alpha=0.2)\n",
    "    ylim = plt.ylim()\n",
    "    ax.plot(depths, accuracy_scores, '-*', label='Train accuracy', alpha=0.9)\n",
    "    ax.set_title(title, fontsize=16)\n",
    "    ax.set_xlabel('Tree depth', fontsize=14)\n",
    "    ax.set_ylabel('Accuracy', fontsize=14)\n",
    "    ax.set_ylim(ylim)\n",
    "    ax.set_xticks(depths)\n",
    "    ax.legend()\n",
    "\n",
    "# plotting accuracy\n",
    "plot_cross_validation_on_trees(sm_tree_depths, sm_cv_scores_mean, sm_cv_scores_std, sm_accuracy_scores, \n",
    "                               'Accuracy per decision tree depth on training data')"
   ]
  },
  {
   "cell_type": "markdown",
   "metadata": {},
   "source": [
    "## Create and fit the model"
   ]
  },
  {
   "cell_type": "code",
   "execution_count": 9,
   "metadata": {},
   "outputs": [],
   "source": [
    "#Get depth of best model\n",
    "max_index = np.argmax(sm_cv_scores_mean)\n",
    "maxdepth = sm_tree_depths[max_index]\n",
    "sm_cv_scores_mean2 = np.delete(sm_cv_scores_mean, max_index)\n",
    "max2_index = np.argmax(sm_cv_scores_mean2)\n",
    "maxdepth2 = sm_tree_depths[max2_index]"
   ]
  },
  {
   "cell_type": "code",
   "execution_count": 10,
   "metadata": {
    "scrolled": true
   },
   "outputs": [
    {
     "data": {
      "text/plain": [
       "DecisionTreeClassifier(max_depth=9, random_state=6162)"
      ]
     },
     "execution_count": 10,
     "metadata": {},
     "output_type": "execute_result"
    }
   ],
   "source": [
    "#Model 1\n",
    "tree = DecisionTreeClassifier(max_depth=maxdepth, random_state=6162)\n",
    "tree.fit(X_train,y_train)"
   ]
  },
  {
   "cell_type": "code",
   "execution_count": 11,
   "metadata": {},
   "outputs": [
    {
     "data": {
      "text/plain": [
       "DecisionTreeClassifier(max_depth=8, random_state=6162)"
      ]
     },
     "execution_count": 11,
     "metadata": {},
     "output_type": "execute_result"
    }
   ],
   "source": [
    "#Model 2\n",
    "tree2 = DecisionTreeClassifier(max_depth=maxdepth2, random_state=6162)\n",
    "tree2.fit(X_train,y_train)"
   ]
  },
  {
   "cell_type": "markdown",
   "metadata": {},
   "source": [
    "## Visualize the Decision Tree"
   ]
  },
  {
   "cell_type": "code",
   "execution_count": 12,
   "metadata": {},
   "outputs": [],
   "source": [
    "songAttributes_labels = songAttributes_binary_encoded.drop(['popularityLabel', 'TimeSignature_1', 'Explicit_False'], axis=1)"
   ]
  },
  {
   "cell_type": "code",
   "execution_count": 13,
   "metadata": {},
   "outputs": [],
   "source": [
    "#Create the dot graph for the decision tree\n",
    "export_graphviz(tree,\n",
    "                out_file=image_path(\"Tree.dot\"),\n",
    "                feature_names=songAttributes_labels.columns,\n",
    "                class_names=['Popular','Unpopular'],\n",
    "                rounded=True,\n",
    "                filled=True)\n",
    "\n",
    "export_graphviz(tree2,\n",
    "                out_file=image_path(\"Tree2.dot\"),\n",
    "                feature_names=songAttributes_labels.columns,\n",
    "                class_names=['Popular','Unpopular'],\n",
    "                rounded=True,\n",
    "                filled=True)\n",
    "\n",
    "#Convert the dot file to image on Anaconda prompt\n",
    "#dot -Tpng dotname.dot -o imagename.png"
   ]
  },
  {
   "cell_type": "markdown",
   "metadata": {},
   "source": [
    "Best Decision Tree\n",
    "![title](Tree.png)"
   ]
  },
  {
   "cell_type": "markdown",
   "metadata": {},
   "source": [
    "Second best Decision Tree\n",
    "![title](Tree2.png)"
   ]
  },
  {
   "cell_type": "markdown",
   "metadata": {},
   "source": [
    "## Evaluation of model"
   ]
  },
  {
   "cell_type": "code",
   "execution_count": 14,
   "metadata": {},
   "outputs": [],
   "source": [
    "prediction_labels = tree.predict(X_test)\n",
    "prediction_labels2 = tree2.predict(X_test)"
   ]
  },
  {
   "cell_type": "code",
   "execution_count": 15,
   "metadata": {},
   "outputs": [
    {
     "name": "stdout",
     "output_type": "stream",
     "text": [
      "Depth: 8\n",
      "Confusion Matrix:\n",
      "[[ 9693 10753]\n",
      " [ 8414 17620]]\n",
      "Accuracy Score: 0.5876290877796901\n",
      "Report: \n",
      "              precision    recall  f1-score   support\n",
      "\n",
      "     Popular       0.54      0.47      0.50     20446\n",
      "   Unpopular       0.62      0.68      0.65     26034\n",
      "\n",
      "    accuracy                           0.59     46480\n",
      "   macro avg       0.58      0.58      0.58     46480\n",
      "weighted avg       0.58      0.59      0.58     46480\n",
      "\n"
     ]
    }
   ],
   "source": [
    "print('Depth:', maxdepth2)\n",
    "results2 = confusion_matrix(y_test, prediction_labels2)\n",
    "print('Confusion Matrix:')\n",
    "print(results2) \n",
    "print('Accuracy Score:', accuracy_score(y_test, prediction_labels2))\n",
    "print('Report: ')\n",
    "print(classification_report(y_test, prediction_labels2))"
   ]
  },
  {
   "cell_type": "code",
   "execution_count": 16,
   "metadata": {},
   "outputs": [
    {
     "name": "stdout",
     "output_type": "stream",
     "text": [
      "Depth: 9\n",
      "Confusion Matrix:\n",
      "[[10550  9896]\n",
      " [ 9112 16922]]\n",
      "Accuracy Score: 0.5910499139414802\n",
      "Report:\n",
      "              precision    recall  f1-score   support\n",
      "\n",
      "     Popular       0.54      0.52      0.53     20446\n",
      "   Unpopular       0.63      0.65      0.64     26034\n",
      "\n",
      "    accuracy                           0.59     46480\n",
      "   macro avg       0.58      0.58      0.58     46480\n",
      "weighted avg       0.59      0.59      0.59     46480\n",
      "\n"
     ]
    }
   ],
   "source": [
    "print('Depth:', maxdepth)\n",
    "results = confusion_matrix(y_test, prediction_labels)\n",
    "print('Confusion Matrix:')\n",
    "print(results) \n",
    "print('Accuracy Score:', accuracy_score(y_test, prediction_labels))\n",
    "print('Report:')\n",
    "print(classification_report(y_test, prediction_labels))"
   ]
  }
 ],
 "metadata": {
  "kernelspec": {
   "display_name": "Python 3 (ipykernel)",
   "language": "python",
   "name": "python3"
  },
  "language_info": {
   "codemirror_mode": {
    "name": "ipython",
    "version": 3
   },
   "file_extension": ".py",
   "mimetype": "text/x-python",
   "name": "python",
   "nbconvert_exporter": "python",
   "pygments_lexer": "ipython3",
   "version": "3.8.8"
  },
  "toc": {
   "colors": {
    "hover_highlight": "#DAA520",
    "navigate_num": "#000000",
    "navigate_text": "#333333",
    "running_highlight": "#FF0000",
    "selected_highlight": "#FFD700",
    "sidebar_border": "#EEEEEE",
    "wrapper_background": "#FFFFFF"
   },
   "moveMenuLeft": true,
   "nav_menu": {
    "height": "12px",
    "width": "252px"
   },
   "navigate_menu": true,
   "number_sections": true,
   "sideBar": true,
   "threshold": 4,
   "toc_cell": false,
   "toc_section_display": "block",
   "toc_window_display": false,
   "widenNotebook": false
  }
 },
 "nbformat": 4,
 "nbformat_minor": 1
}
